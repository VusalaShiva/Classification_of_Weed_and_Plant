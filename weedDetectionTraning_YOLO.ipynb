{
  "cells": [
    {
      "cell_type": "markdown",
      "metadata": {
        "id": "iIkBVlu5VL0M"
      },
      "source": [
        "#Weed Detection using YOLO - V3 \n",
        "\n",
        "\n",
        "---\n",
        "\n",
        "\n",
        "\n",
        "\n"
      ]
    },
    {
      "cell_type": "markdown",
      "metadata": {
        "id": "AFsF7jpRisM1"
      },
      "source": [
        "## setting up environment"
      ]
    },
    {
      "cell_type": "code",
      "execution_count": null,
      "metadata": {
        "id": "fNtyDyTKwGDZ"
      },
      "outputs": [],
      "source": [
        "# clone darknet repo\n",
        "!git clone https://github.com/AlexeyAB/darknet"
      ]
    },
    {
      "cell_type": "code",
      "execution_count": null,
      "metadata": {
        "id": "kFTCw10iwRnI"
      },
      "outputs": [],
      "source": [
        "# change makefile to have GPU and OPENCV enabled\n",
        "%cd darknet\n",
        "!sed -i 's/OPENCV=0/OPENCV=1/' Makefile\n",
        "!sed -i 's/GPU=0/GPU=1/' Makefile\n",
        "!sed -i 's/CUDNN=0/CUDNN=1/' Makefile"
      ]
    },
    {
      "cell_type": "code",
      "execution_count": null,
      "metadata": {
        "id": "H7YikJXhwZSg"
      },
      "outputs": [],
      "source": [
        "# verify CUDA\n",
        "!/usr/local/cuda/bin/nvcc --version"
      ]
    },
    {
      "cell_type": "code",
      "execution_count": null,
      "metadata": {
        "id": "urXJ6AWBwn8N"
      },
      "outputs": [],
      "source": [
        "# make darknet (build)\n",
        "!make"
      ]
    },
    {
      "cell_type": "code",
      "execution_count": 1,
      "metadata": {
        "id": "kD2FoAmywriv"
      },
      "outputs": [],
      "source": [
        "# define helper functions\n",
        "def imShow(path):\n",
        "  import cv2\n",
        "  import matplotlib.pyplot as plt\n",
        "  %matplotlib inline\n",
        "\n",
        "  image = cv2.imread(path)\n",
        "  height, width = image.shape[:2]\n",
        "  resized_image = cv2.resize(image,(3*width, 3*height), interpolation = cv2.INTER_CUBIC)\n",
        "\n",
        "  fig = plt.gcf()\n",
        "  fig.set_size_inches(18, 10)\n",
        "  plt.axis(\"off\")\n",
        "  plt.imshow(cv2.cvtColor(resized_image, cv2.COLOR_BGR2RGB))\n",
        "  plt.show()\n",
        "\n",
        "# use this to upload files\n",
        "def upload():\n",
        "  from google.colab import files\n",
        "  uploaded = files.upload() \n",
        "  for name, data in uploaded.items():\n",
        "    with open(name, 'wb') as f:\n",
        "      f.write(data)\n",
        "      print ('saved file', name)\n",
        "\n",
        "# use this to download a file  \n",
        "def download(path):\n",
        "  from google.colab import files\n",
        "  files.download(path)"
      ]
    },
    {
      "cell_type": "markdown",
      "metadata": {
        "id": "_DQuMHdqlnOW"
      },
      "source": [
        "### mounting google drive for data "
      ]
    },
    {
      "cell_type": "code",
      "execution_count": null,
      "metadata": {
        "id": "HvZXwBSEwx_n"
      },
      "outputs": [],
      "source": [
        "# mounting google drive\n",
        "%cd ..\n",
        "from google.colab import drive\n",
        "drive.mount('/content/gdrive')"
      ]
    },
    {
      "cell_type": "code",
      "execution_count": null,
      "metadata": {
        "id": "yETsya3QxALo"
      },
      "outputs": [],
      "source": [
        "# this creates a symbolic link so that now the path /content/gdrive/My\\ Drive/ is equal to /mydrive\n",
        "!ln -s /content/gdrive/My\\ Drive/ /mydrive\n",
        "!ls /mydrive"
      ]
    },
    {
      "cell_type": "markdown",
      "metadata": {
        "id": "u-bZ-YyfpJ4V"
      },
      "source": [
        "- From [Github](https://) copy all files from **traning** folder and paste it in your drive with folder name **weed_detection**."
      ]
    },
    {
      "cell_type": "code",
      "execution_count": null,
      "metadata": {
        "id": "gGzawOj5xPo1"
      },
      "outputs": [],
      "source": [
        "!ls /mydrive/projets/weed_detection"
      ]
    },
    {
      "cell_type": "markdown",
      "metadata": {
        "id": "bEQlbn5wiimG"
      },
      "source": [
        "### Downloading dataset from kaggle\n",
        "\n",
        "Please follow the steps below to download and use kaggle data within Google Colab:\n",
        "\n",
        "1. Go to you kaggle > account, Scroll to API section and Click Expire API Token(if you have created previously)  to remove previous tokens\n",
        "\n",
        "2. Click on Create New API Token - It will download kaggle.json file on your machine.\n",
        "\n",
        "3. Now just run bellow cell.\n",
        "\n",
        "\n",
        "- Link to [Dataset](https://www.kaggle.com/ravirajsinh45/crop-and-weed-detection-data-with-bounding-boxes)"
      ]
    },
    {
      "cell_type": "code",
      "execution_count": null,
      "metadata": {
        "id": "mdB-AB-rh6sB"
      },
      "outputs": [],
      "source": [
        "# instaling kaggle api\n",
        "!pip install kaggle"
      ]
    },
    {
      "cell_type": "code",
      "execution_count": null,
      "metadata": {
        "id": "BYiorn5ZkDyC"
      },
      "outputs": [],
      "source": [
        "#upload kaggle.json file which you downloaded earlier\n",
        "from google.colab import files\n",
        "files.upload()"
      ]
    },
    {
      "cell_type": "code",
      "execution_count": null,
      "metadata": {
        "id": "_8qYtZfmkD6D"
      },
      "outputs": [],
      "source": [
        "# Some changes and permission in cloud\n",
        "!mkdir -p ~/.kaggle\n",
        "!cp kaggle.json ~/.kaggle/\n",
        "!ls ~/.kaggle\n",
        "!chmod 600 /root/.kaggle/kaggle.json"
      ]
    },
    {
      "cell_type": "code",
      "execution_count": null,
      "metadata": {
        "id": "YfTScan9kEJJ"
      },
      "outputs": [],
      "source": [
        "!kaggle datasets download -d ravirajsinh45/crop-and-weed-detection-data-with-bounding-boxes"
      ]
    },
    {
      "cell_type": "code",
      "execution_count": null,
      "metadata": {
        "id": "c0k5kylb1aUw"
      },
      "outputs": [],
      "source": [
        "%cd darknet"
      ]
    },
    {
      "cell_type": "code",
      "execution_count": null,
      "metadata": {
        "id": "7qPu6Qvlp934"
      },
      "outputs": [],
      "source": [
        "# unzip the zip file and its contents should now be in path /darknet/data/obj\n",
        "!unzip ../crop-and-weed-detection-data-with-bounding-boxes.zip -d data/"
      ]
    },
    {
      "cell_type": "code",
      "execution_count": null,
      "metadata": {
        "id": "CAPuhH1qXd-r"
      },
      "outputs": [],
      "source": [
        "# uploading coustom .cfg, obj.names, obj.data, generate_train.py files from google drive\n",
        "!cp /mydrive/projects/weed_detection/crop_weed.cfg ./cfg\n",
        "!cp /mydrive/projects/weed_detection/obj.names ./data\n",
        "!cp /mydrive/projects/weed_detection/obj.data  ./data\n",
        "!cp /mydrive/projects/weed_detection/train.py ./\n"
      ]
    },
    {
      "cell_type": "code",
      "execution_count": null,
      "metadata": {
        "id": "vkEs59Aku0uM"
      },
      "outputs": [],
      "source": [
        "# running python script\n",
        "!python train.py"
      ]
    },
    {
      "cell_type": "markdown",
      "metadata": {
        "id": "fcF0_9aeYPNW"
      },
      "source": [
        "- Downloading pretrained weights from darknet\n"
      ]
    },
    {
      "cell_type": "code",
      "execution_count": null,
      "metadata": {
        "id": "H8vWvYAEzTNj"
      },
      "outputs": [],
      "source": [
        "# upload pretrained convolutional layer weights \n",
        "!wget http://pjreddie.com/media/files/darknet53.conv.74"
      ]
    },
    {
      "cell_type": "markdown",
      "metadata": {
        "id": "41EbKw2cYYn8"
      },
      "source": [
        "- press ctrl+shift+i than paste below code \n",
        "- open console and paste below code else your runtime will crash after some time\n",
        "```\n",
        "    function ClickConnect(){\n",
        "    console.log(\"Working\"); \n",
        "    document.querySelector(\"colab-toolbar-button#connect\").click() \n",
        "    }\n",
        "    setInterval(ClickConnect,60000)\n",
        "```\n",
        "\n",
        "\n"
      ]
    },
    {
      "cell_type": "markdown",
      "metadata": {
        "id": "LYC8t3iAwgvO"
      },
      "source": [
        "# Training YOLO "
      ]
    },
    {
      "cell_type": "code",
      "execution_count": null,
      "metadata": {
        "id": "dq4PaMVH4Rmt"
      },
      "outputs": [],
      "source": [
        "# train your custom detector\n",
        "!./darknet detector train data/obj.data cfg/crop_weed.cfg darknet53.conv.74 -dont_show"
      ]
    },
    {
      "cell_type": "code",
      "execution_count": null,
      "metadata": {
        "id": "t1WcFT0io5qU"
      },
      "outputs": [],
      "source": [
        "imShow('chart.png')"
      ]
    },
    {
      "cell_type": "markdown",
      "metadata": {
        "id": "ePOg0Q_MyRqK"
      },
      "source": [
        "# Testing"
      ]
    },
    {
      "cell_type": "code",
      "execution_count": null,
      "metadata": {
        "id": "ikbCZcoKcFR0"
      },
      "outputs": [],
      "source": [
        "# need to set our custom cfg to test mode \n",
        "%cd cfg\n",
        "!sed -i 's/batch=32/batch=1/' crop_weed.cfg\n",
        "!sed -i 's/subdivisions=16/subdivisions=1/' crop_weed.cfg\n",
        "%cd .."
      ]
    },
    {
      "cell_type": "code",
      "execution_count": null,
      "metadata": {
        "id": "h9rVg5e2r9e5"
      },
      "outputs": [],
      "source": [
        "!ls /mydrive/projects/weed_detection/test"
      ]
    },
    {
      "cell_type": "code",
      "execution_count": null,
      "metadata": {
        "id": "Zg5Qt-7lvHgW"
      },
      "outputs": [],
      "source": [
        "# run your custom detector with this command (upload an image to your google drive to test, thresh flag sets accuracy that detection must be in order to show it)\n",
        "!./darknet detector test data/obj.data cfg/crop_weed.cfg /mydrive/projects/weed_detection/backup/yolov3_custom_final.weights /mydrive/projects/weed_detection/test/weed_1.jpeg  -thresh 0.3\n",
        "imShow('predictions.jpg')"
      ]
    },
    {
      "cell_type": "code",
      "execution_count": null,
      "metadata": {
        "id": "oyHTx7m8mX8v"
      },
      "outputs": [],
      "source": []
    }
  ],
  "metadata": {
    "accelerator": "GPU",
    "colab": {
      "collapsed_sections": [],
      "name": "weedDetectionTraning-YOLO",
      "provenance": []
    },
    "kernelspec": {
      "display_name": "weed_env",
      "language": "python",
      "name": "python3"
    },
    "language_info": {
      "codemirror_mode": {
        "name": "ipython",
        "version": 3
      },
      "file_extension": ".py",
      "mimetype": "text/x-python",
      "name": "python",
      "nbconvert_exporter": "python",
      "pygments_lexer": "ipython3",
      "version": "3.10.16"
    }
  },
  "nbformat": 4,
  "nbformat_minor": 0
}
